{
 "cells": [
  {
   "attachments": {},
   "cell_type": "markdown",
   "metadata": {},
   "source": [
    "Cris Chou  \n",
    "Text Classification"
   ]
  },
  {
   "cell_type": "code",
   "execution_count": 17,
   "metadata": {},
   "outputs": [
    {
     "data": {
      "text/plain": [
       "(1956, 5)"
      ]
     },
     "execution_count": 17,
     "metadata": {},
     "output_type": "execute_result"
    }
   ],
   "source": [
    "#Dataset https://archive.ics.uci.edu/ml/datasets/YouTube+Spam+Collection#\n",
    "import pandas as pd\n",
    "df1 = pd.read_csv('../textclass/data/Youtube01-Psy.csv')\n",
    "df2 = pd.read_csv('../textclass/data/Youtube02-KatyPerry.csv')\n",
    "df3 = pd.read_csv('../textclass/data/Youtube03-LMFAO.csv')\n",
    "df4 = pd.read_csv('../textclass/data/Youtube04-Eminem.csv')\n",
    "df5 = pd.read_csv('../textclass/data/Youtube05-Shakira.csv')\n",
    "#combine dataframes\n",
    "df = pd.concat([df1, df2, df3, df4, df5])\n",
    "df.shape"
   ]
  },
  {
   "cell_type": "code",
   "execution_count": 18,
   "metadata": {},
   "outputs": [
    {
     "data": {
      "text/plain": [
       "<seaborn.axisgrid.FacetGrid at 0x1c99819bf70>"
      ]
     },
     "execution_count": 18,
     "metadata": {},
     "output_type": "execute_result"
    },
    {
     "data": {
      "image/png": "[encoded data removed]",
      "text/plain": [
       "<Figure size 360x360 with 1 Axes>"
      ]
     },
     "metadata": {
      "needs_background": "light"
     },
     "output_type": "display_data"
    }
   ],
   "source": [
    "#Graph target distribution (genders)\n",
    "import seaborn as sb\n",
    "\n",
    "sb.catplot(x='CLASS', kind='count', data=df)"
   ]
  },
  {
   "cell_type": "code",
   "execution_count": 45,
   "metadata": {},
   "outputs": [
    {
     "data": {
      "text/plain": [
       "(1564,)"
      ]
     },
     "execution_count": 45,
     "metadata": {},
     "output_type": "execute_result"
    }
   ],
   "source": [
    "#Dividing into training and testing data\n",
    "from sklearn.model_selection import train_test_split\n",
    "X_train, X_test, y_train, y_test = train_test_split(df.CONTENT, df.CLASS, test_size=0.2, train_size= 0.8, random_state=1234)\n",
    "X_train.shape\n"
   ]
  },
  {
   "attachments": {},
   "cell_type": "markdown",
   "metadata": {},
   "source": [
    "# Naive Bayes"
   ]
  },
  {
   "cell_type": "code",
   "execution_count": 46,
   "metadata": {},
   "outputs": [],
   "source": [
    "from sklearn.naive_bayes import MultinomialNB\n",
    "import math"
   ]
  },
  {
   "cell_type": "code",
   "execution_count": 47,
   "metadata": {},
   "outputs": [],
   "source": [
    "#Text preprocessing\n",
    "from nltk.corpus import stopwords\n",
    "from sklearn.feature_extraction.text import TfidfVectorizer\n",
    "\n",
    "stopwords = set(stopwords.words('english'))\n",
    "vectorizer = TfidfVectorizer(stop_words=stopwords)"
   ]
  },
  {
   "cell_type": "code",
   "execution_count": 48,
   "metadata": {},
   "outputs": [],
   "source": [
    "X_train = vectorizer.fit_transform(X_train)  # fit and transform the train data\n",
    "X_test = vectorizer.transform(X_test)"
   ]
  },
  {
   "cell_type": "code",
   "execution_count": 49,
   "metadata": {},
   "outputs": [
    {
     "data": {
      "text/plain": [
       "-0.6444788116528288"
      ]
     },
     "execution_count": 49,
     "metadata": {},
     "output_type": "execute_result"
    }
   ],
   "source": [
    "naive_bayes = MultinomialNB()\n",
    "naive_bayes.fit(X_train, y_train)\n",
    "\n",
    "# prior\n",
    "prior_p = sum(y_train == 1)/len(y_train)\n",
    "naive_bayes.class_log_prior_[1]"
   ]
  },
  {
   "cell_type": "code",
   "execution_count": 50,
   "metadata": {},
   "outputs": [
    {
     "name": "stdout",
     "output_type": "stream",
     "text": [
      "[[183  25]\n",
      " [ 11 173]]\n"
     ]
    }
   ],
   "source": [
    "#predicting\n",
    "from sklearn.metrics import accuracy_score, precision_score, recall_score, f1_score, confusion_matrix\n",
    "pred = naive_bayes.predict(X_test)\n",
    "print(confusion_matrix(y_test, pred))"
   ]
  },
  {
   "attachments": {},
   "cell_type": "markdown",
   "metadata": {},
   "source": [
    "## Naive Bayes Report"
   ]
  },
  {
   "cell_type": "code",
   "execution_count": 51,
   "metadata": {},
   "outputs": [
    {
     "name": "stdout",
     "output_type": "stream",
     "text": [
      "accuracy score:  0.9081632653061225\n",
      "\n",
      "precision score (not spam):  0.9432989690721649\n",
      "precision score (spam):  0.8737373737373737\n",
      "\n",
      "recall score: (not spam) 0.8798076923076923\n",
      "recall score: (spam) 0.9402173913043478\n",
      "\n",
      "f1 score:  0.9057591623036649\n"
     ]
    }
   ],
   "source": [
    "print('accuracy score: ', accuracy_score(y_test, pred))\n",
    "\n",
    "print('\\nprecision score (not spam): ', precision_score(y_test, pred, pos_label=0))\n",
    "print('precision score (spam): ', precision_score(y_test, pred))\n",
    "\n",
    "print('\\nrecall score: (not spam)', recall_score(y_test, pred, pos_label=0))\n",
    "print('recall score: (spam)', recall_score(y_test, pred))\n",
    "      \n",
    "print('\\nf1 score: ', f1_score(y_test, pred))"
   ]
  },
  {
   "cell_type": "code",
   "execution_count": 52,
   "metadata": {},
   "outputs": [
    {
     "name": "stdout",
     "output_type": "stream",
     "text": [
      "              precision    recall  f1-score   support\n",
      "\n",
      "           0       0.94      0.88      0.91       208\n",
      "           1       0.87      0.94      0.91       184\n",
      "\n",
      "    accuracy                           0.91       392\n",
      "   macro avg       0.91      0.91      0.91       392\n",
      "weighted avg       0.91      0.91      0.91       392\n",
      "\n"
     ]
    }
   ],
   "source": [
    "from sklearn.metrics import classification_report\n",
    "print(classification_report(y_test, pred))"
   ]
  },
  {
   "cell_type": "code",
   "execution_count": 53,
   "metadata": {},
   "outputs": [
    {
     "data": {
      "text/plain": [
       "197    0\n",
       "108    0\n",
       "293    0\n",
       "69     0\n",
       "241    1\n",
       "218    0\n",
       "29     0\n",
       "353    0\n",
       "261    1\n",
       "235    0\n",
       "195    1\n",
       "411    0\n",
       "88     1\n",
       "282    1\n",
       "239    0\n",
       "243    0\n",
       "328    0\n",
       "16     0\n",
       "82     0\n",
       "159    0\n",
       "198    0\n",
       "88     0\n",
       "213    1\n",
       "87     0\n",
       "20     0\n",
       "102    0\n",
       "228    0\n",
       "251    1\n",
       "216    1\n",
       "208    0\n",
       "212    0\n",
       "286    1\n",
       "300    0\n",
       "238    1\n",
       "299    1\n",
       "180    0\n",
       "Name: CLASS, dtype: int64"
      ]
     },
     "execution_count": 53,
     "metadata": {},
     "output_type": "execute_result"
    }
   ],
   "source": [
    "#issues\n",
    "y_test[y_test != pred]"
   ]
  },
  {
   "attachments": {},
   "cell_type": "markdown",
   "metadata": {},
   "source": [
    "# Logistic Regression"
   ]
  },
  {
   "cell_type": "code",
   "execution_count": 54,
   "metadata": {},
   "outputs": [],
   "source": [
    "import numpy as np\n",
    "from sklearn.linear_model import LogisticRegression"
   ]
  },
  {
   "cell_type": "code",
   "execution_count": 55,
   "metadata": {},
   "outputs": [
    {
     "name": "stderr",
     "output_type": "stream",
     "text": [
      "[Parallel(n_jobs=4)]: Using backend LokyBackend with 4 concurrent workers.\n",
      "[Parallel(n_jobs=4)]: Done   1 out of   1 | elapsed:    1.0s finished\n"
     ]
    },
    {
     "data": {
      "text/plain": [
       "LogisticRegression(C=2.5, n_jobs=4, random_state=1234, verbose=1)"
      ]
     },
     "execution_count": 55,
     "metadata": {},
     "output_type": "execute_result"
    }
   ],
   "source": [
    "clf = LogisticRegression(C=2.5, n_jobs=4, solver ='lbfgs', random_state=1234,verbose=1)\n",
    "clf.fit(X_train, y_train)"
   ]
  },
  {
   "cell_type": "code",
   "execution_count": 56,
   "metadata": {},
   "outputs": [],
   "source": [
    "pred_logR = clf.predict(X_test)"
   ]
  },
  {
   "cell_type": "code",
   "execution_count": 57,
   "metadata": {},
   "outputs": [
    {
     "data": {
      "text/plain": [
       "array([[205,   3],\n",
       "       [ 13, 171]], dtype=int64)"
      ]
     },
     "execution_count": 57,
     "metadata": {},
     "output_type": "execute_result"
    }
   ],
   "source": [
    "confusion_matrix(y_test, pred_logR)"
   ]
  },
  {
   "cell_type": "code",
   "execution_count": 86,
   "metadata": {},
   "outputs": [
    {
     "name": "stdout",
     "output_type": "stream",
     "text": [
      "accuracy score:  0.9591836734693877\n",
      "precision score:  0.9827586206896551\n",
      "recall score:  0.9293478260869565\n",
      "f1 score:  0.9553072625698323\n"
     ]
    }
   ],
   "source": [
    "print('accuracy score: ', accuracy_score(y_test, pred_logR))\n",
    "print('precision score: ', precision_score(y_test, pred_logR))\n",
    "print('recall score: ', recall_score(y_test, pred_logR))\n",
    "print('f1 score: ', f1_score(y_test, pred_logR))"
   ]
  },
  {
   "attachments": {},
   "cell_type": "markdown",
   "metadata": {},
   "source": [
    "# Neural Networks"
   ]
  },
  {
   "cell_type": "code",
   "execution_count": 59,
   "metadata": {},
   "outputs": [],
   "source": [
    "from sklearn.neural_network import MLPClassifier"
   ]
  },
  {
   "cell_type": "code",
   "execution_count": 83,
   "metadata": {},
   "outputs": [
    {
     "data": {
      "text/plain": [
       "MLPClassifier(alpha=1e-05, hidden_layer_sizes=(200, 50, 15, 2),\n",
       "              random_state=1234, solver='lbfgs')"
      ]
     },
     "execution_count": 83,
     "metadata": {},
     "output_type": "execute_result"
    }
   ],
   "source": [
    "classifier = MLPClassifier(solver='lbfgs', alpha=1e-5, hidden_layer_sizes=(200,50,15,2), random_state=1234)\n",
    "classifier.fit(X_train, y_train)"
   ]
  },
  {
   "cell_type": "code",
   "execution_count": 85,
   "metadata": {},
   "outputs": [
    {
     "name": "stdout",
     "output_type": "stream",
     "text": [
      "accuracy score:  0.9617346938775511\n",
      "precision score:  0.9720670391061452\n",
      "recall score:  0.9456521739130435\n",
      "f1 score:  0.9586776859504132\n"
     ]
    }
   ],
   "source": [
    "pred_nn = classifier.predict(X_test)\n",
    "print('accuracy score: ', accuracy_score(y_test, pred_nn))\n",
    "print('precision score: ', precision_score(y_test, pred_nn))\n",
    "print('recall score: ', recall_score(y_test, pred_nn))\n",
    "print('f1 score: ', f1_score(y_test, pred_nn))"
   ]
  },
  {
   "attachments": {},
   "cell_type": "markdown",
   "metadata": {},
   "source": [
    "If not enough layers, very low accuracy. "
   ]
  },
  {
   "attachments": {},
   "cell_type": "markdown",
   "metadata": {},
   "source": [
    "# Analysis"
   ]
  },
  {
   "attachments": {},
   "cell_type": "markdown",
   "metadata": {},
   "source": [
    "Neural Networks had the highest accuracy (96.173%), followed by Logistic Regression (95.918%), followed lastly by Naive Bayes (90.816%). Neural Networks tends to perform very well with NLP because of the complex relations between text. The dataset size was not the largest (1956 rows), but it wasn't small enough to allow Naive Bayes to outperform either of Neural Networks or Logistic Regression. Despite having an overall higher accuracy, Logistic Regression was able to have a higher precision score, and a similar F1 score when compared to Neural Networks.  "
   ]
  }
 ],
 "metadata": {
  "kernelspec": {
   "display_name": "Python 3",
   "language": "python",
   "name": "python3"
  },
  "language_info": {
   "codemirror_mode": {
    "name": "ipython",
    "version": 3
   },
   "file_extension": ".py",
   "mimetype": "text/x-python",
   "name": "python",
   "nbconvert_exporter": "python",
   "pygments_lexer": "ipython3",
   "version": "3.10.0"
  },
  "orig_nbformat": 4
 },
 "nbformat": 4,
 "nbformat_minor": 2
}
