{
  "nbformat": 4,
  "nbformat_minor": 0,
  "metadata": {
    "colab": {
      "provenance": [],
      "toc_visible": true,
      "authorship_tag": "ABX9TyMHAZqsrHB5CaWwmkwn9sEf"
    },
    "kernelspec": {
      "name": "python3",
      "display_name": "Python 3"
    },
    "language_info": {
      "name": "python"
    }
  },
  "cells": [
    {
      "cell_type": "markdown",
      "source": [
        "# Cris Chou\n",
        "#Homework 3"
      ],
      "metadata": {
        "id": "EhOxNyq5FmNT"
      }
    },
    {
      "cell_type": "markdown",
      "source": [
        "#Overview of WordNet "
      ],
      "metadata": {
        "id": "qzryDwVLF5No"
      }
    },
    {
      "cell_type": "markdown",
      "source": [
        "WordNet is a lexical database built off of synsets; a group of words that are synonymous or semanticall related. It was created as a Princeton project by George Miller. The synsets are connected to other synsets in hierarchical semantic relations. "
      ],
      "metadata": {
        "id": "6jMwW342F_Q6"
      }
    },
    {
      "cell_type": "markdown",
      "source": [
        "# Installing Packages"
      ],
      "metadata": {
        "id": "9HZ8mRfEUDl2"
      }
    },
    {
      "cell_type": "code",
      "execution_count": 1,
      "metadata": {
        "id": "8yN1nuctFedJ",
        "colab": {
          "base_uri": "https://localhost:8080/"
        },
        "outputId": "d2da2d02-c320-41fe-d766-a0f709910c07"
      },
      "outputs": [
        {
          "output_type": "stream",
          "name": "stdout",
          "text": [
            "Looking in indexes: https://pypi.org/simple, https://us-python.pkg.dev/colab-wheels/public/simple/\n",
            "Collecting wordnet\n",
            "  Downloading wordnet-0.0.1b2.tar.gz (8.8 kB)\n",
            "  Preparing metadata (setup.py) ... \u001b[?25l\u001b[?25hdone\n",
            "Collecting colorama==0.3.9\n",
            "  Downloading colorama-0.3.9-py2.py3-none-any.whl (20 kB)\n",
            "Building wheels for collected packages: wordnet\n",
            "  Building wheel for wordnet (setup.py) ... \u001b[?25l\u001b[?25hdone\n",
            "  Created wheel for wordnet: filename=wordnet-0.0.1b2-py3-none-any.whl size=10519 sha256=7c948308272414539763e01a0a680f016b8e7b78d1f41d1b0ff77eb78b41ae44\n",
            "  Stored in directory: /root/.cache/pip/wheels/c3/6b/0d/1364db2ed13d53eba854f1b31dcfb4cc56adc191e11147ed64\n",
            "Successfully built wordnet\n",
            "Installing collected packages: colorama, wordnet\n",
            "Successfully installed colorama-0.3.9 wordnet-0.0.1b2\n"
          ]
        }
      ],
      "source": [
        "!pip install wordnet"
      ]
    },
    {
      "cell_type": "code",
      "source": [
        "!pip install nltk"
      ],
      "metadata": {
        "colab": {
          "base_uri": "https://localhost:8080/"
        },
        "id": "Bo-MptkYSFgZ",
        "outputId": "b4fd25cb-688f-47f5-9ac1-c18c4ca14208"
      },
      "execution_count": 2,
      "outputs": [
        {
          "output_type": "stream",
          "name": "stdout",
          "text": [
            "Looking in indexes: https://pypi.org/simple, https://us-python.pkg.dev/colab-wheels/public/simple/\n",
            "Requirement already satisfied: nltk in /usr/local/lib/python3.8/dist-packages (3.7)\n",
            "Requirement already satisfied: click in /usr/local/lib/python3.8/dist-packages (from nltk) (7.1.2)\n",
            "Requirement already satisfied: joblib in /usr/local/lib/python3.8/dist-packages (from nltk) (1.2.0)\n",
            "Requirement already satisfied: regex>=2021.8.3 in /usr/local/lib/python3.8/dist-packages (from nltk) (2022.6.2)\n",
            "Requirement already satisfied: tqdm in /usr/local/lib/python3.8/dist-packages (from nltk) (4.64.1)\n"
          ]
        }
      ]
    },
    {
      "cell_type": "code",
      "source": [
        "!pip install random-word"
      ],
      "metadata": {
        "colab": {
          "base_uri": "https://localhost:8080/"
        },
        "id": "KVpc3VchT17D",
        "outputId": "157fb663-d867-40e0-f4a3-821f3f04d886"
      },
      "execution_count": 3,
      "outputs": [
        {
          "output_type": "stream",
          "name": "stdout",
          "text": [
            "Looking in indexes: https://pypi.org/simple, https://us-python.pkg.dev/colab-wheels/public/simple/\n",
            "Collecting random-word\n",
            "  Downloading Random_Word-1.0.11-py3-none-any.whl (1.2 MB)\n",
            "\u001b[2K     \u001b[90m━━━━━━━━━━━━━━━━━━━━━━━━━━━━━━━━━━━━━━━━\u001b[0m \u001b[32m1.2/1.2 MB\u001b[0m \u001b[31m14.9 MB/s\u001b[0m eta \u001b[36m0:00:00\u001b[0m\n",
            "\u001b[?25hRequirement already satisfied: pytest in /usr/local/lib/python3.8/dist-packages (from random-word) (3.6.4)\n",
            "Requirement already satisfied: pyyaml in /usr/local/lib/python3.8/dist-packages (from random-word) (6.0)\n",
            "Requirement already satisfied: requests in /usr/local/lib/python3.8/dist-packages (from random-word) (2.25.1)\n",
            "Requirement already satisfied: six>=1.10.0 in /usr/local/lib/python3.8/dist-packages (from pytest->random-word) (1.15.0)\n",
            "Requirement already satisfied: attrs>=17.4.0 in /usr/local/lib/python3.8/dist-packages (from pytest->random-word) (22.2.0)\n",
            "Requirement already satisfied: atomicwrites>=1.0 in /usr/local/lib/python3.8/dist-packages (from pytest->random-word) (1.4.1)\n",
            "Requirement already satisfied: pluggy<0.8,>=0.5 in /usr/local/lib/python3.8/dist-packages (from pytest->random-word) (0.7.1)\n",
            "Requirement already satisfied: setuptools in /usr/local/lib/python3.8/dist-packages (from pytest->random-word) (57.4.0)\n",
            "Requirement already satisfied: more-itertools>=4.0.0 in /usr/local/lib/python3.8/dist-packages (from pytest->random-word) (9.0.0)\n",
            "Requirement already satisfied: py>=1.5.0 in /usr/local/lib/python3.8/dist-packages (from pytest->random-word) (1.11.0)\n",
            "Requirement already satisfied: urllib3<1.27,>=1.21.1 in /usr/local/lib/python3.8/dist-packages (from requests->random-word) (1.24.3)\n",
            "Requirement already satisfied: idna<3,>=2.5 in /usr/local/lib/python3.8/dist-packages (from requests->random-word) (2.10)\n",
            "Requirement already satisfied: chardet<5,>=3.0.2 in /usr/local/lib/python3.8/dist-packages (from requests->random-word) (4.0.0)\n",
            "Requirement already satisfied: certifi>=2017.4.17 in /usr/local/lib/python3.8/dist-packages (from requests->random-word) (2022.12.7)\n",
            "Installing collected packages: random-word\n",
            "Successfully installed random-word-1.0.11\n"
          ]
        }
      ]
    },
    {
      "cell_type": "code",
      "source": [
        "!pip install wonderwords"
      ],
      "metadata": {
        "colab": {
          "base_uri": "https://localhost:8080/"
        },
        "id": "lBGNHvJKV4XY",
        "outputId": "0a77b5e6-4e34-4f70-8855-667ef6362968"
      },
      "execution_count": 22,
      "outputs": [
        {
          "output_type": "stream",
          "name": "stdout",
          "text": [
            "Looking in indexes: https://pypi.org/simple, https://us-python.pkg.dev/colab-wheels/public/simple/\n",
            "Collecting wonderwords\n",
            "  Downloading wonderwords-2.2.0-py3-none-any.whl (44 kB)\n",
            "\u001b[2K     \u001b[90m━━━━━━━━━━━━━━━━━━━━━━━━━━━━━━━━━━━━━━━━\u001b[0m \u001b[32m45.0/45.0 KB\u001b[0m \u001b[31m2.1 MB/s\u001b[0m eta \u001b[36m0:00:00\u001b[0m\n",
            "\u001b[?25hInstalling collected packages: wonderwords\n",
            "Successfully installed wonderwords-2.2.0\n"
          ]
        }
      ]
    },
    {
      "cell_type": "markdown",
      "source": [
        "# Imports"
      ],
      "metadata": {
        "id": "iBV8YOndUBML"
      }
    },
    {
      "cell_type": "code",
      "source": [
        "from nltk.corpus import wordnet as wn \n",
        "from wonderwords import RandomWord"
      ],
      "metadata": {
        "id": "dlV8GvqkSMeW"
      },
      "execution_count": 23,
      "outputs": []
    },
    {
      "cell_type": "code",
      "source": [
        "import nltk\n",
        "nltk.download('wordnet')\n",
        "nltk.download('omw-1.4')"
      ],
      "metadata": {
        "colab": {
          "base_uri": "https://localhost:8080/"
        },
        "id": "9gRaAcrxVPSi",
        "outputId": "33d3da6f-3db0-4471-cbec-2a843b60e17a"
      },
      "execution_count": 13,
      "outputs": [
        {
          "output_type": "stream",
          "name": "stderr",
          "text": [
            "[nltk_data] Downloading package wordnet to /root/nltk_data...\n",
            "[nltk_data]   Package wordnet is already up-to-date!\n",
            "[nltk_data] Downloading package omw-1.4 to /root/nltk_data...\n"
          ]
        },
        {
          "output_type": "execute_result",
          "data": {
            "text/plain": [
              "True"
            ]
          },
          "metadata": {},
          "execution_count": 13
        }
      ]
    },
    {
      "cell_type": "markdown",
      "source": [
        "# Getting a random noun and outputting synsets"
      ],
      "metadata": {
        "id": "eKOESbE7URsh"
      }
    },
    {
      "cell_type": "code",
      "source": [
        "noun = RandomWord().word(include_parts_of_speech=[\"nouns\"])\n",
        "print(noun)\n",
        "syns = wn.synsets(noun)\n",
        "syns"
      ],
      "metadata": {
        "colab": {
          "base_uri": "https://localhost:8080/"
        },
        "id": "vipUp4fBUa2e",
        "outputId": "58c7fd1d-50dc-466a-b715-340a6ba4b55c"
      },
      "execution_count": 62,
      "outputs": [
        {
          "output_type": "stream",
          "name": "stdout",
          "text": [
            "acquisition\n"
          ]
        },
        {
          "output_type": "execute_result",
          "data": {
            "text/plain": [
              "[Synset('acquisition.n.01'),\n",
              " Synset('acquisition.n.02'),\n",
              " Synset('learning.n.01'),\n",
              " Synset('skill.n.01')]"
            ]
          },
          "metadata": {},
          "execution_count": 62
        }
      ]
    },
    {
      "cell_type": "markdown",
      "source": [
        "# Choosing synet"
      ],
      "metadata": {
        "id": "mCup7orBWiUC"
      }
    },
    {
      "cell_type": "markdown",
      "source": [
        "Definition, usage and lemmas"
      ],
      "metadata": {
        "id": "LDvjHR6mZDae"
      }
    },
    {
      "cell_type": "code",
      "source": [
        "wn.synset('acquisition.n.01').definition()"
      ],
      "metadata": {
        "colab": {
          "base_uri": "https://localhost:8080/",
          "height": 35
        },
        "id": "zFlBpeTkZYUQ",
        "outputId": "4e4a89db-acdd-4ece-9f19-16c41f575591"
      },
      "execution_count": 63,
      "outputs": [
        {
          "output_type": "execute_result",
          "data": {
            "text/plain": [
              "'the act of contracting or assuming or acquiring possession of something'"
            ],
            "application/vnd.google.colaboratory.intrinsic+json": {
              "type": "string"
            }
          },
          "metadata": {},
          "execution_count": 63
        }
      ]
    },
    {
      "cell_type": "code",
      "source": [
        "wn.synset('acquisition.n.01').examples()"
      ],
      "metadata": {
        "colab": {
          "base_uri": "https://localhost:8080/"
        },
        "id": "XFGlylTtZc7K",
        "outputId": "6e614e8c-48a0-4976-b19b-a38f315632f3"
      },
      "execution_count": 64,
      "outputs": [
        {
          "output_type": "execute_result",
          "data": {
            "text/plain": [
              "['the acquisition of wealth', 'the acquisition of one company by another']"
            ]
          },
          "metadata": {},
          "execution_count": 64
        }
      ]
    },
    {
      "cell_type": "code",
      "source": [
        "wn.synset('acquisition.n.01').lemmas()"
      ],
      "metadata": {
        "colab": {
          "base_uri": "https://localhost:8080/"
        },
        "id": "PgDSlYhkWrBp",
        "outputId": "546c113f-ff85-49c2-d22f-19aff2d8ff9d"
      },
      "execution_count": 65,
      "outputs": [
        {
          "output_type": "execute_result",
          "data": {
            "text/plain": [
              "[Lemma('acquisition.n.01.acquisition')]"
            ]
          },
          "metadata": {},
          "execution_count": 65
        }
      ]
    },
    {
      "cell_type": "markdown",
      "source": [
        "Traversing hierarchy"
      ],
      "metadata": {
        "id": "IWZTU65nY1PR"
      }
    },
    {
      "cell_type": "code",
      "source": [
        "acq = wn.synset('acquisition.n.01')\n",
        "hyp = acq.hypernyms()[0]\n",
        "top = wn.synset('entity.n.01')\n",
        "\n",
        "while hyp:\n",
        "    print(hyp)\n",
        "    if hyp == top:\n",
        "      break\n",
        "    if hyp.hypernyms():\n",
        "      hyp = hyp.hypernyms()[0]"
      ],
      "metadata": {
        "colab": {
          "base_uri": "https://localhost:8080/"
        },
        "id": "uNV21TXVY4fg",
        "outputId": "e1370299-1cb8-4e6e-d187-f4eebcc0ed89"
      },
      "execution_count": 66,
      "outputs": [
        {
          "output_type": "stream",
          "name": "stdout",
          "text": [
            "Synset('acquiring.n.01')\n",
            "Synset('act.n.02')\n",
            "Synset('event.n.01')\n",
            "Synset('psychological_feature.n.01')\n",
            "Synset('abstraction.n.06')\n",
            "Synset('entity.n.01')\n"
          ]
        }
      ]
    },
    {
      "cell_type": "markdown",
      "source": [
        "WordNet is organized for nouns by having the most encompassing synset as the highets hierarchy. The more specific the concept, the lower in the hierarchy it is. Entitiy is the highest hierarchy for nouns because it is the most general, and all nouns are entities. "
      ],
      "metadata": {
        "id": "cTqnwEC7am1c"
      }
    },
    {
      "cell_type": "markdown",
      "source": [
        "# Output the hypernyms, hyponyms, meronyms, holonyms, and antonyms"
      ],
      "metadata": {
        "id": "YG-XgkPWc83m"
      }
    },
    {
      "cell_type": "code",
      "source": [
        "acq.hypernyms()"
      ],
      "metadata": {
        "colab": {
          "base_uri": "https://localhost:8080/"
        },
        "id": "ho0zVHZQdhXB",
        "outputId": "9624ef5e-85fa-4ff7-b750-d50467e8de38"
      },
      "execution_count": 70,
      "outputs": [
        {
          "output_type": "execute_result",
          "data": {
            "text/plain": [
              "[Synset('acquiring.n.01')]"
            ]
          },
          "metadata": {},
          "execution_count": 70
        }
      ]
    },
    {
      "cell_type": "code",
      "source": [
        "acq.hyponyms()"
      ],
      "metadata": {
        "colab": {
          "base_uri": "https://localhost:8080/"
        },
        "id": "roCR2pu1d8kW",
        "outputId": "5f47c21c-eff4-481b-b479-f1c3b5a070b2"
      },
      "execution_count": 71,
      "outputs": [
        {
          "output_type": "execute_result",
          "data": {
            "text/plain": [
              "[Synset('acceptance.n.07'),\n",
              " Synset('annexation.n.02'),\n",
              " Synset('assumption.n.03'),\n",
              " Synset('buyout.n.01'),\n",
              " Synset('incurring.n.01'),\n",
              " Synset('inheritance.n.01'),\n",
              " Synset('moneymaking.n.01'),\n",
              " Synset('pork-barreling.n.01'),\n",
              " Synset('procurement.n.01'),\n",
              " Synset('purchase.n.01'),\n",
              " Synset('restitution.n.03'),\n",
              " Synset('succession.n.05')]"
            ]
          },
          "metadata": {},
          "execution_count": 71
        }
      ]
    },
    {
      "cell_type": "code",
      "source": [
        "print(acq.part_meronyms())\n",
        "print(acq.substance_meronyms())"
      ],
      "metadata": {
        "colab": {
          "base_uri": "https://localhost:8080/"
        },
        "id": "KrVGSHv5eDhR",
        "outputId": "44c2bbaf-6f46-4313-f7b6-4e04bf9187dc"
      },
      "execution_count": 81,
      "outputs": [
        {
          "output_type": "stream",
          "name": "stdout",
          "text": [
            "[]\n",
            "[]\n"
          ]
        }
      ]
    },
    {
      "cell_type": "code",
      "source": [
        "print(acq.part_holonyms())\n",
        "print(acq.substance_holonyms())"
      ],
      "metadata": {
        "colab": {
          "base_uri": "https://localhost:8080/"
        },
        "id": "DKojP4tdfDfh",
        "outputId": "705e43d6-76a4-4586-9cfb-6246639100a5"
      },
      "execution_count": 84,
      "outputs": [
        {
          "output_type": "stream",
          "name": "stdout",
          "text": [
            "[]\n",
            "[]\n"
          ]
        }
      ]
    },
    {
      "cell_type": "code",
      "source": [
        "acq.lemmas()[0].antonyms()"
      ],
      "metadata": {
        "colab": {
          "base_uri": "https://localhost:8080/"
        },
        "id": "gPflQn9kfUvZ",
        "outputId": "0813993a-3515-4fc4-853f-4e5a714757b9"
      },
      "execution_count": 92,
      "outputs": [
        {
          "output_type": "execute_result",
          "data": {
            "text/plain": [
              "[]"
            ]
          },
          "metadata": {},
          "execution_count": 92
        }
      ]
    },
    {
      "cell_type": "markdown",
      "source": [
        "# Selecting verb"
      ],
      "metadata": {
        "id": "qo7MAGJNg0Ia"
      }
    },
    {
      "cell_type": "code",
      "source": [
        "verb = RandomWord().word(include_parts_of_speech=[\"verbs\"])\n",
        "print(verb)\n",
        "syns = wn.synsets(verb)\n",
        "syns"
      ],
      "metadata": {
        "colab": {
          "base_uri": "https://localhost:8080/"
        },
        "id": "HEL_jquOhAbT",
        "outputId": "061b0e5c-fac8-4e93-cf38-345c21ba126b"
      },
      "execution_count": 93,
      "outputs": [
        {
          "output_type": "stream",
          "name": "stdout",
          "text": [
            "render\n"
          ]
        },
        {
          "output_type": "execute_result",
          "data": {
            "text/plain": [
              "[Synset('render.n.01'),\n",
              " Synset('render.v.01'),\n",
              " Synset('supply.v.01'),\n",
              " Synset('interpret.v.03'),\n",
              " Synset('render.v.04'),\n",
              " Synset('render.v.05'),\n",
              " Synset('render.v.06'),\n",
              " Synset('render.v.07'),\n",
              " Synset('hand_over.v.01'),\n",
              " Synset('picture.v.02'),\n",
              " Synset('render.v.10'),\n",
              " Synset('give.v.21'),\n",
              " Synset('translate.v.01'),\n",
              " Synset('try.v.08')]"
            ]
          },
          "metadata": {},
          "execution_count": 93
        }
      ]
    },
    {
      "cell_type": "markdown",
      "source": [
        "Definition, usage, and lemmas"
      ],
      "metadata": {
        "id": "3nYq-ejUhQR9"
      }
    },
    {
      "cell_type": "code",
      "source": [
        "wn.synset('render.v.01').definition()"
      ],
      "metadata": {
        "colab": {
          "base_uri": "https://localhost:8080/",
          "height": 35
        },
        "id": "6hHCoJ23hTMx",
        "outputId": "b9e6054a-66c3-4ae5-e88d-0cf50c07b2ee"
      },
      "execution_count": 94,
      "outputs": [
        {
          "output_type": "execute_result",
          "data": {
            "text/plain": [
              "'cause to become'"
            ],
            "application/vnd.google.colaboratory.intrinsic+json": {
              "type": "string"
            }
          },
          "metadata": {},
          "execution_count": 94
        }
      ]
    },
    {
      "cell_type": "code",
      "source": [
        "wn.synset('render.v.01').examples()"
      ],
      "metadata": {
        "colab": {
          "base_uri": "https://localhost:8080/"
        },
        "id": "TEzUSINphecI",
        "outputId": "341c9a1c-0bf1-4147-b960-847122e65156"
      },
      "execution_count": 95,
      "outputs": [
        {
          "output_type": "execute_result",
          "data": {
            "text/plain": [
              "['The shot rendered her immobile']"
            ]
          },
          "metadata": {},
          "execution_count": 95
        }
      ]
    },
    {
      "cell_type": "code",
      "source": [
        "wn.synset('render.v.01').lemmas()"
      ],
      "metadata": {
        "colab": {
          "base_uri": "https://localhost:8080/"
        },
        "id": "kTSzSYC2hp_A",
        "outputId": "3f79e075-ccd3-4d99-988c-d24f53c3e865"
      },
      "execution_count": 96,
      "outputs": [
        {
          "output_type": "execute_result",
          "data": {
            "text/plain": [
              "[Lemma('render.v.01.render')]"
            ]
          },
          "metadata": {},
          "execution_count": 96
        }
      ]
    },
    {
      "cell_type": "markdown",
      "source": [
        "Traverse hierarchy"
      ],
      "metadata": {
        "id": "vQAxXWKFh2-m"
      }
    },
    {
      "cell_type": "code",
      "source": [
        "wn.synsets('render')[1].root_hypernyms()"
      ],
      "metadata": {
        "colab": {
          "base_uri": "https://localhost:8080/"
        },
        "id": "a3Q7gDXyh41S",
        "outputId": "94c0dd90-f93e-4f0b-e715-3f96df4b8ea1"
      },
      "execution_count": 100,
      "outputs": [
        {
          "output_type": "execute_result",
          "data": {
            "text/plain": [
              "[Synset('change.v.01')]"
            ]
          },
          "metadata": {},
          "execution_count": 100
        }
      ]
    },
    {
      "cell_type": "code",
      "source": [
        "ren = wn.synset('render.v.01')\n",
        "hyp = ren.hypernyms()[0]\n",
        "top = wn.synset('change.v.01')\n",
        "\n",
        "while hyp:\n",
        "    print(hyp)\n",
        "    if hyp == top:\n",
        "      break\n",
        "    if hyp.hypernyms():\n",
        "      hyp = hyp.hypernyms()[0]"
      ],
      "metadata": {
        "colab": {
          "base_uri": "https://localhost:8080/"
        },
        "id": "7D8wFCyIi5Hu",
        "outputId": "d5ca6761-7529-4aba-a891-8c44779e6c3d"
      },
      "execution_count": 101,
      "outputs": [
        {
          "output_type": "stream",
          "name": "stdout",
          "text": [
            "Synset('make.v.02')\n",
            "Synset('change.v.01')\n"
          ]
        }
      ]
    },
    {
      "cell_type": "markdown",
      "source": [
        "Verbs is organized the same way as nouns where the most encompassing verb is the highest level. However, verbs don't fall into the same highest hypernym as generally as nouns can. "
      ],
      "metadata": {
        "id": "49uzxlU5jHFk"
      }
    },
    {
      "cell_type": "markdown",
      "source": [
        "# Using morphy to find different forms"
      ],
      "metadata": {
        "id": "7TOaTyvIjvR7"
      }
    },
    {
      "cell_type": "code",
      "source": [
        "wn.morphy('render',wn.VERB)"
      ],
      "metadata": {
        "colab": {
          "base_uri": "https://localhost:8080/",
          "height": 35
        },
        "id": "cxUCPWlTj279",
        "outputId": "6638cd12-f6ce-43b0-ea58-fc1942794408"
      },
      "execution_count": 111,
      "outputs": [
        {
          "output_type": "execute_result",
          "data": {
            "text/plain": [
              "'render'"
            ],
            "application/vnd.google.colaboratory.intrinsic+json": {
              "type": "string"
            }
          },
          "metadata": {},
          "execution_count": 111
        }
      ]
    },
    {
      "cell_type": "markdown",
      "source": [
        "# Selecting two similar words"
      ],
      "metadata": {
        "id": "6k8jwZwYkb4f"
      }
    },
    {
      "cell_type": "code",
      "source": [
        "vic = 'vicarious'\n",
        "ind = 'indirect'\n",
        "s1 = wn.synsets(vic)\n",
        "s2 = wn.synsets(ind)\n",
        "print(s1)\n",
        "print(s2)"
      ],
      "metadata": {
        "colab": {
          "base_uri": "https://localhost:8080/"
        },
        "id": "SngeEhC3koQ4",
        "outputId": "cc48c3a9-fe86-4d08-833a-7ac6d38abc6d"
      },
      "execution_count": 114,
      "outputs": [
        {
          "output_type": "stream",
          "name": "stdout",
          "text": [
            "[Synset('vicarious.s.01'), Synset('vicarious.s.02'), Synset('vicarious.s.03')]\n",
            "[Synset('indirect.s.01'), Synset('indirect.a.02'), Synset('collateral.a.01'), Synset('indirect.a.04'), Synset('indirect.s.05')]\n"
          ]
        }
      ]
    },
    {
      "cell_type": "code",
      "source": [
        "vic2 = s1[0]\n",
        "ind2 = s2[0] "
      ],
      "metadata": {
        "id": "63BOBGh5l6Tz"
      },
      "execution_count": 116,
      "outputs": []
    },
    {
      "cell_type": "markdown",
      "source": [
        "# Wu-Palmer"
      ],
      "metadata": {
        "id": "DifR3s2SltFC"
      }
    },
    {
      "cell_type": "code",
      "source": [
        "wn.wup_similarity(vic2,ind2)"
      ],
      "metadata": {
        "colab": {
          "base_uri": "https://localhost:8080/"
        },
        "id": "pTjXaUillxdP",
        "outputId": "8722bef5-b418-4dd9-ddec-9042702f184b"
      },
      "execution_count": 117,
      "outputs": [
        {
          "output_type": "execute_result",
          "data": {
            "text/plain": [
              "0.5"
            ]
          },
          "metadata": {},
          "execution_count": 117
        }
      ]
    },
    {
      "cell_type": "markdown",
      "source": [
        "#Lesk Algorithm"
      ],
      "metadata": {
        "id": "w_wlh6rFmKhz"
      }
    },
    {
      "cell_type": "code",
      "source": [
        "from nltk.wsd import lesk"
      ],
      "metadata": {
        "id": "vnqSQPaUmQkr"
      },
      "execution_count": 118,
      "outputs": []
    },
    {
      "cell_type": "code",
      "source": [
        "print(lesk(vic,ind,pos='s'))"
      ],
      "metadata": {
        "colab": {
          "base_uri": "https://localhost:8080/",
          "height": 53
        },
        "id": "OWAhRT6KmX7-",
        "outputId": "d9b4b0d5-7fe0-4fdc-8bb8-cefd3ff0ab40"
      },
      "execution_count": 137,
      "outputs": [
        {
          "output_type": "stream",
          "name": "stdout",
          "text": [
            "Synset('indirect.s.05')\n"
          ]
        },
        {
          "output_type": "execute_result",
          "data": {
            "text/plain": [
              "'not as a direct effect or consequence'"
            ],
            "application/vnd.google.colaboratory.intrinsic+json": {
              "type": "string"
            }
          },
          "metadata": {},
          "execution_count": 137
        }
      ]
    },
    {
      "cell_type": "code",
      "source": [
        "s2[4].definition()"
      ],
      "metadata": {
        "colab": {
          "base_uri": "https://localhost:8080/",
          "height": 35
        },
        "id": "pCLJcv8coacv",
        "outputId": "d1f1165d-8416-4ffe-a9fd-8b69aada0820"
      },
      "execution_count": 138,
      "outputs": [
        {
          "output_type": "execute_result",
          "data": {
            "text/plain": [
              "'not as a direct effect or consequence'"
            ],
            "application/vnd.google.colaboratory.intrinsic+json": {
              "type": "string"
            }
          },
          "metadata": {},
          "execution_count": 138
        }
      ]
    },
    {
      "cell_type": "code",
      "source": [
        "for ss in wn.synsets('vicarious'):\n",
        "  print(ss,ss.definition())"
      ],
      "metadata": {
        "colab": {
          "base_uri": "https://localhost:8080/"
        },
        "id": "KXHrihDSuslN",
        "outputId": "380dc482-9613-49e6-d9d4-4aec4fa0c0b2"
      },
      "execution_count": 142,
      "outputs": [
        {
          "output_type": "stream",
          "name": "stdout",
          "text": [
            "Synset('vicarious.s.01') experienced at secondhand\n",
            "Synset('vicarious.s.02') occurring in an abnormal part of the body instead of the usual site involved in that function\n",
            "Synset('vicarious.s.03') suffered or done by one person as a substitute for another\n"
          ]
        }
      ]
    },
    {
      "cell_type": "code",
      "source": [
        "sent = ['They','lived','vicariously','.']\n",
        "print(lesk(sent,'vicarious','s'))\n",
        "print(lesk(sent,'vicariously','r'))\n",
        "print(lesk(ind,vic))"
      ],
      "metadata": {
        "colab": {
          "base_uri": "https://localhost:8080/"
        },
        "id": "PvrYGhdJu8NY",
        "outputId": "bf9b0797-ac80-4530-a4e9-41902cfdfac8"
      },
      "execution_count": 146,
      "outputs": [
        {
          "output_type": "stream",
          "name": "stdout",
          "text": [
            "Synset('vicarious.s.03')\n",
            "Synset('vicariously.r.01')\n",
            "Synset('vicarious.s.03')\n"
          ]
        }
      ]
    },
    {
      "cell_type": "markdown",
      "source": [
        "The Wu-palmer algorithim was very straightforward and easy to use. The Lesk Algorithm had more options to play around with. It was able to find still find a similary definition even when using different forms of the word (vicarious, and vicariously)"
      ],
      "metadata": {
        "id": "SNKUxQA_v_xd"
      }
    },
    {
      "cell_type": "markdown",
      "source": [
        "# SentiWordNet"
      ],
      "metadata": {
        "id": "RLWpayPPxE3O"
      }
    },
    {
      "cell_type": "markdown",
      "source": [
        "SentiWordNet is a lexical resource that extends WordNet's capabilities. It is used to give 3 sentiment scores, positivity, negativity, and neutrality of a synset. "
      ],
      "metadata": {
        "id": "vQnARCfMxKIb"
      }
    }
  ]
}