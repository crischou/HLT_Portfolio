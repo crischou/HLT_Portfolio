{
  "nbformat": 4,
  "nbformat_minor": 0,
  "metadata": {
    "colab": {
      "provenance": [],
      "toc_visible": true,
      "authorship_tag": "ABX9TyM84bHSI7tAASkw/sbZA7yu"
    },
    "kernelspec": {
      "name": "python3",
      "display_name": "Python 3"
    },
    "language_info": {
      "name": "python"
    }
  },
  "cells": [
    {
      "cell_type": "markdown",
      "source": [
        "# Cris Chou\n",
        "#Homework 3"
      ],
      "metadata": {
        "id": "EhOxNyq5FmNT"
      }
    },
    {
      "cell_type": "markdown",
      "source": [
        "#Overview of WordNet "
      ],
      "metadata": {
        "id": "qzryDwVLF5No"
      }
    },
    {
      "cell_type": "markdown",
      "source": [
        "WordNet is a lexical database built off of synsets; a group of words that are synonymous or semanticall related. It was created as a Princeton project by George Miller. The synsets are connected to other synsets in hierarchical semantic relations. "
      ],
      "metadata": {
        "id": "6jMwW342F_Q6"
      }
    },
    {
      "cell_type": "markdown",
      "source": [
        "# Installing Packages"
      ],
      "metadata": {
        "id": "9HZ8mRfEUDl2"
      }
    },
    {
      "cell_type": "code",
      "execution_count": null,
      "metadata": {
        "id": "8yN1nuctFedJ"
      },
      "outputs": [],
      "source": [
        "!pip install wordnet"
      ]
    },
    {
      "cell_type": "code",
      "source": [
        "!pip install nltk"
      ],
      "metadata": {
        "id": "Bo-MptkYSFgZ"
      },
      "execution_count": null,
      "outputs": []
    },
    {
      "cell_type": "code",
      "source": [
        "!pip install random-word"
      ],
      "metadata": {
        "id": "KVpc3VchT17D"
      },
      "execution_count": null,
      "outputs": []
    },
    {
      "cell_type": "code",
      "source": [
        "!pip install wonderwords"
      ],
      "metadata": {
        "id": "lBGNHvJKV4XY"
      },
      "execution_count": null,
      "outputs": []
    },
    {
      "cell_type": "markdown",
      "source": [
        "# Imports"
      ],
      "metadata": {
        "id": "iBV8YOndUBML"
      }
    },
    {
      "cell_type": "code",
      "source": [
        "from nltk.corpus import wordnet as wn \n",
        "from wonderwords import RandomWord"
      ],
      "metadata": {
        "id": "dlV8GvqkSMeW"
      },
      "execution_count": 23,
      "outputs": []
    },
    {
      "cell_type": "code",
      "source": [
        "import nltk\n",
        "nltk.download('wordnet')\n",
        "nltk.download('omw-1.4')"
      ],
      "metadata": {
        "id": "9gRaAcrxVPSi"
      },
      "execution_count": null,
      "outputs": []
    },
    {
      "cell_type": "markdown",
      "source": [
        "# Getting a random noun and outputting synsets"
      ],
      "metadata": {
        "id": "eKOESbE7URsh"
      }
    },
    {
      "cell_type": "code",
      "source": [
        "noun = RandomWord().word(include_parts_of_speech=[\"nouns\"])\n",
        "print(noun)\n",
        "syns = wn.synsets(noun)\n",
        "syns"
      ],
      "metadata": {
        "colab": {
          "base_uri": "https://localhost:8080/"
        },
        "id": "vipUp4fBUa2e",
        "outputId": "58c7fd1d-50dc-466a-b715-340a6ba4b55c"
      },
      "execution_count": 62,
      "outputs": [
        {
          "output_type": "stream",
          "name": "stdout",
          "text": [
            "acquisition\n"
          ]
        },
        {
          "output_type": "execute_result",
          "data": {
            "text/plain": [
              "[Synset('acquisition.n.01'),\n",
              " Synset('acquisition.n.02'),\n",
              " Synset('learning.n.01'),\n",
              " Synset('skill.n.01')]"
            ]
          },
          "metadata": {},
          "execution_count": 62
        }
      ]
    },
    {
      "cell_type": "markdown",
      "source": [
        "# Choosing synet"
      ],
      "metadata": {
        "id": "mCup7orBWiUC"
      }
    },
    {
      "cell_type": "markdown",
      "source": [
        "Definition, usage and lemmas"
      ],
      "metadata": {
        "id": "LDvjHR6mZDae"
      }
    },
    {
      "cell_type": "code",
      "source": [
        "wn.synset('acquisition.n.01').definition()"
      ],
      "metadata": {
        "colab": {
          "base_uri": "https://localhost:8080/",
          "height": 35
        },
        "id": "zFlBpeTkZYUQ",
        "outputId": "4e4a89db-acdd-4ece-9f19-16c41f575591"
      },
      "execution_count": 63,
      "outputs": [
        {
          "output_type": "execute_result",
          "data": {
            "text/plain": [
              "'the act of contracting or assuming or acquiring possession of something'"
            ],
            "application/vnd.google.colaboratory.intrinsic+json": {
              "type": "string"
            }
          },
          "metadata": {},
          "execution_count": 63
        }
      ]
    },
    {
      "cell_type": "code",
      "source": [
        "wn.synset('acquisition.n.01').examples()"
      ],
      "metadata": {
        "colab": {
          "base_uri": "https://localhost:8080/"
        },
        "id": "XFGlylTtZc7K",
        "outputId": "6e614e8c-48a0-4976-b19b-a38f315632f3"
      },
      "execution_count": 64,
      "outputs": [
        {
          "output_type": "execute_result",
          "data": {
            "text/plain": [
              "['the acquisition of wealth', 'the acquisition of one company by another']"
            ]
          },
          "metadata": {},
          "execution_count": 64
        }
      ]
    },
    {
      "cell_type": "code",
      "source": [
        "wn.synset('acquisition.n.01').lemmas()"
      ],
      "metadata": {
        "colab": {
          "base_uri": "https://localhost:8080/"
        },
        "id": "PgDSlYhkWrBp",
        "outputId": "546c113f-ff85-49c2-d22f-19aff2d8ff9d"
      },
      "execution_count": 65,
      "outputs": [
        {
          "output_type": "execute_result",
          "data": {
            "text/plain": [
              "[Lemma('acquisition.n.01.acquisition')]"
            ]
          },
          "metadata": {},
          "execution_count": 65
        }
      ]
    },
    {
      "cell_type": "markdown",
      "source": [
        "Traversing hierarchy"
      ],
      "metadata": {
        "id": "IWZTU65nY1PR"
      }
    },
    {
      "cell_type": "code",
      "source": [
        "acq = wn.synset('acquisition.n.01')\n",
        "hyp = acq.hypernyms()[0]\n",
        "top = wn.synset('entity.n.01')\n",
        "\n",
        "while hyp:\n",
        "    print(hyp)\n",
        "    if hyp == top:\n",
        "      break\n",
        "    if hyp.hypernyms():\n",
        "      hyp = hyp.hypernyms()[0]"
      ],
      "metadata": {
        "colab": {
          "base_uri": "https://localhost:8080/"
        },
        "id": "uNV21TXVY4fg",
        "outputId": "e1370299-1cb8-4e6e-d187-f4eebcc0ed89"
      },
      "execution_count": 66,
      "outputs": [
        {
          "output_type": "stream",
          "name": "stdout",
          "text": [
            "Synset('acquiring.n.01')\n",
            "Synset('act.n.02')\n",
            "Synset('event.n.01')\n",
            "Synset('psychological_feature.n.01')\n",
            "Synset('abstraction.n.06')\n",
            "Synset('entity.n.01')\n"
          ]
        }
      ]
    },
    {
      "cell_type": "markdown",
      "source": [
        "WordNet is organized for nouns by having the most encompassing synset as the highets hierarchy. The more specific the concept, the lower in the hierarchy it is. Entitiy is the highest hierarchy for nouns because it is the most general, and all nouns are entities. "
      ],
      "metadata": {
        "id": "cTqnwEC7am1c"
      }
    },
    {
      "cell_type": "markdown",
      "source": [
        "# Output the hypernyms, hyponyms, meronyms, holonyms, and antonyms"
      ],
      "metadata": {
        "id": "YG-XgkPWc83m"
      }
    },
    {
      "cell_type": "code",
      "source": [
        "acq.hypernyms()"
      ],
      "metadata": {
        "colab": {
          "base_uri": "https://localhost:8080/"
        },
        "id": "ho0zVHZQdhXB",
        "outputId": "9624ef5e-85fa-4ff7-b750-d50467e8de38"
      },
      "execution_count": 70,
      "outputs": [
        {
          "output_type": "execute_result",
          "data": {
            "text/plain": [
              "[Synset('acquiring.n.01')]"
            ]
          },
          "metadata": {},
          "execution_count": 70
        }
      ]
    },
    {
      "cell_type": "code",
      "source": [
        "acq.hyponyms()"
      ],
      "metadata": {
        "colab": {
          "base_uri": "https://localhost:8080/"
        },
        "id": "roCR2pu1d8kW",
        "outputId": "5f47c21c-eff4-481b-b479-f1c3b5a070b2"
      },
      "execution_count": 71,
      "outputs": [
        {
          "output_type": "execute_result",
          "data": {
            "text/plain": [
              "[Synset('acceptance.n.07'),\n",
              " Synset('annexation.n.02'),\n",
              " Synset('assumption.n.03'),\n",
              " Synset('buyout.n.01'),\n",
              " Synset('incurring.n.01'),\n",
              " Synset('inheritance.n.01'),\n",
              " Synset('moneymaking.n.01'),\n",
              " Synset('pork-barreling.n.01'),\n",
              " Synset('procurement.n.01'),\n",
              " Synset('purchase.n.01'),\n",
              " Synset('restitution.n.03'),\n",
              " Synset('succession.n.05')]"
            ]
          },
          "metadata": {},
          "execution_count": 71
        }
      ]
    },
    {
      "cell_type": "code",
      "source": [
        "print(acq.part_meronyms())\n",
        "print(acq.substance_meronyms())"
      ],
      "metadata": {
        "colab": {
          "base_uri": "https://localhost:8080/"
        },
        "id": "KrVGSHv5eDhR",
        "outputId": "44c2bbaf-6f46-4313-f7b6-4e04bf9187dc"
      },
      "execution_count": 81,
      "outputs": [
        {
          "output_type": "stream",
          "name": "stdout",
          "text": [
            "[]\n",
            "[]\n"
          ]
        }
      ]
    },
    {
      "cell_type": "code",
      "source": [
        "print(acq.part_holonyms())\n",
        "print(acq.substance_holonyms())"
      ],
      "metadata": {
        "colab": {
          "base_uri": "https://localhost:8080/"
        },
        "id": "DKojP4tdfDfh",
        "outputId": "705e43d6-76a4-4586-9cfb-6246639100a5"
      },
      "execution_count": 84,
      "outputs": [
        {
          "output_type": "stream",
          "name": "stdout",
          "text": [
            "[]\n",
            "[]\n"
          ]
        }
      ]
    },
    {
      "cell_type": "code",
      "source": [
        "acq.lemmas()[0].antonyms()"
      ],
      "metadata": {
        "colab": {
          "base_uri": "https://localhost:8080/"
        },
        "id": "gPflQn9kfUvZ",
        "outputId": "0813993a-3515-4fc4-853f-4e5a714757b9"
      },
      "execution_count": 92,
      "outputs": [
        {
          "output_type": "execute_result",
          "data": {
            "text/plain": [
              "[]"
            ]
          },
          "metadata": {},
          "execution_count": 92
        }
      ]
    },
    {
      "cell_type": "markdown",
      "source": [
        "# Selecting verb"
      ],
      "metadata": {
        "id": "qo7MAGJNg0Ia"
      }
    },
    {
      "cell_type": "code",
      "source": [
        "verb = RandomWord().word(include_parts_of_speech=[\"verbs\"])\n",
        "print(verb)\n",
        "syns = wn.synsets(verb)\n",
        "syns"
      ],
      "metadata": {
        "colab": {
          "base_uri": "https://localhost:8080/"
        },
        "id": "HEL_jquOhAbT",
        "outputId": "061b0e5c-fac8-4e93-cf38-345c21ba126b"
      },
      "execution_count": 93,
      "outputs": [
        {
          "output_type": "stream",
          "name": "stdout",
          "text": [
            "render\n"
          ]
        },
        {
          "output_type": "execute_result",
          "data": {
            "text/plain": [
              "[Synset('render.n.01'),\n",
              " Synset('render.v.01'),\n",
              " Synset('supply.v.01'),\n",
              " Synset('interpret.v.03'),\n",
              " Synset('render.v.04'),\n",
              " Synset('render.v.05'),\n",
              " Synset('render.v.06'),\n",
              " Synset('render.v.07'),\n",
              " Synset('hand_over.v.01'),\n",
              " Synset('picture.v.02'),\n",
              " Synset('render.v.10'),\n",
              " Synset('give.v.21'),\n",
              " Synset('translate.v.01'),\n",
              " Synset('try.v.08')]"
            ]
          },
          "metadata": {},
          "execution_count": 93
        }
      ]
    },
    {
      "cell_type": "markdown",
      "source": [
        "Definition, usage, and lemmas"
      ],
      "metadata": {
        "id": "3nYq-ejUhQR9"
      }
    },
    {
      "cell_type": "code",
      "source": [
        "wn.synset('render.v.01').definition()"
      ],
      "metadata": {
        "colab": {
          "base_uri": "https://localhost:8080/",
          "height": 35
        },
        "id": "6hHCoJ23hTMx",
        "outputId": "b9e6054a-66c3-4ae5-e88d-0cf50c07b2ee"
      },
      "execution_count": 94,
      "outputs": [
        {
          "output_type": "execute_result",
          "data": {
            "text/plain": [
              "'cause to become'"
            ],
            "application/vnd.google.colaboratory.intrinsic+json": {
              "type": "string"
            }
          },
          "metadata": {},
          "execution_count": 94
        }
      ]
    },
    {
      "cell_type": "code",
      "source": [
        "wn.synset('render.v.01').examples()"
      ],
      "metadata": {
        "colab": {
          "base_uri": "https://localhost:8080/"
        },
        "id": "TEzUSINphecI",
        "outputId": "341c9a1c-0bf1-4147-b960-847122e65156"
      },
      "execution_count": 95,
      "outputs": [
        {
          "output_type": "execute_result",
          "data": {
            "text/plain": [
              "['The shot rendered her immobile']"
            ]
          },
          "metadata": {},
          "execution_count": 95
        }
      ]
    },
    {
      "cell_type": "code",
      "source": [
        "wn.synset('render.v.01').lemmas()"
      ],
      "metadata": {
        "colab": {
          "base_uri": "https://localhost:8080/"
        },
        "id": "kTSzSYC2hp_A",
        "outputId": "3f79e075-ccd3-4d99-988c-d24f53c3e865"
      },
      "execution_count": 96,
      "outputs": [
        {
          "output_type": "execute_result",
          "data": {
            "text/plain": [
              "[Lemma('render.v.01.render')]"
            ]
          },
          "metadata": {},
          "execution_count": 96
        }
      ]
    },
    {
      "cell_type": "markdown",
      "source": [
        "Traverse hierarchy"
      ],
      "metadata": {
        "id": "vQAxXWKFh2-m"
      }
    },
    {
      "cell_type": "code",
      "source": [
        "wn.synsets('render')[1].root_hypernyms()"
      ],
      "metadata": {
        "colab": {
          "base_uri": "https://localhost:8080/"
        },
        "id": "a3Q7gDXyh41S",
        "outputId": "94c0dd90-f93e-4f0b-e715-3f96df4b8ea1"
      },
      "execution_count": 100,
      "outputs": [
        {
          "output_type": "execute_result",
          "data": {
            "text/plain": [
              "[Synset('change.v.01')]"
            ]
          },
          "metadata": {},
          "execution_count": 100
        }
      ]
    },
    {
      "cell_type": "code",
      "source": [
        "ren = wn.synset('render.v.01')\n",
        "hyp = ren.hypernyms()[0]\n",
        "top = wn.synset('change.v.01')\n",
        "\n",
        "while hyp:\n",
        "    print(hyp)\n",
        "    if hyp == top:\n",
        "      break\n",
        "    if hyp.hypernyms():\n",
        "      hyp = hyp.hypernyms()[0]"
      ],
      "metadata": {
        "colab": {
          "base_uri": "https://localhost:8080/"
        },
        "id": "7D8wFCyIi5Hu",
        "outputId": "d5ca6761-7529-4aba-a891-8c44779e6c3d"
      },
      "execution_count": 101,
      "outputs": [
        {
          "output_type": "stream",
          "name": "stdout",
          "text": [
            "Synset('make.v.02')\n",
            "Synset('change.v.01')\n"
          ]
        }
      ]
    },
    {
      "cell_type": "markdown",
      "source": [
        "Verbs is organized the same way as nouns where the most encompassing verb is the highest level. However, verbs don't fall into the same highest hypernym as generally as nouns can. "
      ],
      "metadata": {
        "id": "49uzxlU5jHFk"
      }
    },
    {
      "cell_type": "markdown",
      "source": [
        "# Using morphy to find different forms"
      ],
      "metadata": {
        "id": "7TOaTyvIjvR7"
      }
    },
    {
      "cell_type": "code",
      "source": [
        "wn.morphy('render',wn.VERB)"
      ],
      "metadata": {
        "colab": {
          "base_uri": "https://localhost:8080/",
          "height": 35
        },
        "id": "cxUCPWlTj279",
        "outputId": "6638cd12-f6ce-43b0-ea58-fc1942794408"
      },
      "execution_count": 111,
      "outputs": [
        {
          "output_type": "execute_result",
          "data": {
            "text/plain": [
              "'render'"
            ],
            "application/vnd.google.colaboratory.intrinsic+json": {
              "type": "string"
            }
          },
          "metadata": {},
          "execution_count": 111
        }
      ]
    },
    {
      "cell_type": "markdown",
      "source": [
        "# Selecting two similar words"
      ],
      "metadata": {
        "id": "6k8jwZwYkb4f"
      }
    },
    {
      "cell_type": "code",
      "source": [
        "vic = 'vicarious'\n",
        "ind = 'indirect'\n",
        "s1 = wn.synsets(vic)\n",
        "s2 = wn.synsets(ind)\n",
        "print(s1)\n",
        "print(s2)"
      ],
      "metadata": {
        "colab": {
          "base_uri": "https://localhost:8080/"
        },
        "id": "SngeEhC3koQ4",
        "outputId": "cc48c3a9-fe86-4d08-833a-7ac6d38abc6d"
      },
      "execution_count": 114,
      "outputs": [
        {
          "output_type": "stream",
          "name": "stdout",
          "text": [
            "[Synset('vicarious.s.01'), Synset('vicarious.s.02'), Synset('vicarious.s.03')]\n",
            "[Synset('indirect.s.01'), Synset('indirect.a.02'), Synset('collateral.a.01'), Synset('indirect.a.04'), Synset('indirect.s.05')]\n"
          ]
        }
      ]
    },
    {
      "cell_type": "code",
      "source": [
        "vic2 = s1[0]\n",
        "ind2 = s2[0] "
      ],
      "metadata": {
        "id": "63BOBGh5l6Tz"
      },
      "execution_count": 116,
      "outputs": []
    },
    {
      "cell_type": "markdown",
      "source": [
        "# Wu-Palmer"
      ],
      "metadata": {
        "id": "DifR3s2SltFC"
      }
    },
    {
      "cell_type": "code",
      "source": [
        "wn.wup_similarity(vic2,ind2)"
      ],
      "metadata": {
        "colab": {
          "base_uri": "https://localhost:8080/"
        },
        "id": "pTjXaUillxdP",
        "outputId": "8722bef5-b418-4dd9-ddec-9042702f184b"
      },
      "execution_count": 117,
      "outputs": [
        {
          "output_type": "execute_result",
          "data": {
            "text/plain": [
              "0.5"
            ]
          },
          "metadata": {},
          "execution_count": 117
        }
      ]
    },
    {
      "cell_type": "markdown",
      "source": [
        "#Lesk Algorithm"
      ],
      "metadata": {
        "id": "w_wlh6rFmKhz"
      }
    },
    {
      "cell_type": "code",
      "source": [
        "from nltk.wsd import lesk"
      ],
      "metadata": {
        "id": "vnqSQPaUmQkr"
      },
      "execution_count": 118,
      "outputs": []
    },
    {
      "cell_type": "code",
      "source": [
        "print(lesk(vic,ind,pos='s'))"
      ],
      "metadata": {
        "colab": {
          "base_uri": "https://localhost:8080/",
          "height": 53
        },
        "id": "OWAhRT6KmX7-",
        "outputId": "d9b4b0d5-7fe0-4fdc-8bb8-cefd3ff0ab40"
      },
      "execution_count": 137,
      "outputs": [
        {
          "output_type": "stream",
          "name": "stdout",
          "text": [
            "Synset('indirect.s.05')\n"
          ]
        },
        {
          "output_type": "execute_result",
          "data": {
            "text/plain": [
              "'not as a direct effect or consequence'"
            ],
            "application/vnd.google.colaboratory.intrinsic+json": {
              "type": "string"
            }
          },
          "metadata": {},
          "execution_count": 137
        }
      ]
    },
    {
      "cell_type": "code",
      "source": [
        "s2[4].definition()"
      ],
      "metadata": {
        "colab": {
          "base_uri": "https://localhost:8080/",
          "height": 35
        },
        "id": "pCLJcv8coacv",
        "outputId": "d1f1165d-8416-4ffe-a9fd-8b69aada0820"
      },
      "execution_count": 138,
      "outputs": [
        {
          "output_type": "execute_result",
          "data": {
            "text/plain": [
              "'not as a direct effect or consequence'"
            ],
            "application/vnd.google.colaboratory.intrinsic+json": {
              "type": "string"
            }
          },
          "metadata": {},
          "execution_count": 138
        }
      ]
    },
    {
      "cell_type": "code",
      "source": [
        "for ss in wn.synsets('vicarious'):\n",
        "  print(ss,ss.definition())"
      ],
      "metadata": {
        "colab": {
          "base_uri": "https://localhost:8080/"
        },
        "id": "KXHrihDSuslN",
        "outputId": "380dc482-9613-49e6-d9d4-4aec4fa0c0b2"
      },
      "execution_count": 142,
      "outputs": [
        {
          "output_type": "stream",
          "name": "stdout",
          "text": [
            "Synset('vicarious.s.01') experienced at secondhand\n",
            "Synset('vicarious.s.02') occurring in an abnormal part of the body instead of the usual site involved in that function\n",
            "Synset('vicarious.s.03') suffered or done by one person as a substitute for another\n"
          ]
        }
      ]
    },
    {
      "cell_type": "code",
      "source": [
        "sent = ['They','lived','vicariously','.']\n",
        "print(lesk(sent,'vicarious','s'))\n",
        "print(lesk(sent,'vicariously','r'))\n",
        "print(lesk(ind,vic))"
      ],
      "metadata": {
        "colab": {
          "base_uri": "https://localhost:8080/"
        },
        "id": "PvrYGhdJu8NY",
        "outputId": "bf9b0797-ac80-4530-a4e9-41902cfdfac8"
      },
      "execution_count": 146,
      "outputs": [
        {
          "output_type": "stream",
          "name": "stdout",
          "text": [
            "Synset('vicarious.s.03')\n",
            "Synset('vicariously.r.01')\n",
            "Synset('vicarious.s.03')\n"
          ]
        }
      ]
    },
    {
      "cell_type": "markdown",
      "source": [
        "The Wu-palmer algorithim was very straightforward and easy to use. The Lesk Algorithm had more options to play around with. It was able to find still find a similary definition even when using different forms of the word (vicarious, and vicariously)"
      ],
      "metadata": {
        "id": "SNKUxQA_v_xd"
      }
    },
    {
      "cell_type": "markdown",
      "source": [
        "# SentiWordNet"
      ],
      "metadata": {
        "id": "RLWpayPPxE3O"
      }
    },
    {
      "cell_type": "markdown",
      "source": [
        "SentiWordNet is a lexical resource that extends WordNet's capabilities. It is used to give 3 sentiment scores, positivity, negativity, and neutrality of a synset. It can be used for sentiment analysis, such as check whether certain tweets, social medai posts, and news articles are positive, negative, or neutral."
      ],
      "metadata": {
        "id": "vQnARCfMxKIb"
      }
    },
    {
      "cell_type": "code",
      "source": [
        "syn = wn.synsets('envy')"
      ],
      "metadata": {
        "colab": {
          "base_uri": "https://localhost:8080/"
        },
        "id": "sGhmS0OX0kOA",
        "outputId": "d0257453-7605-494c-89c1-636cd4c00816"
      },
      "execution_count": 150,
      "outputs": [
        {
          "output_type": "execute_result",
          "data": {
            "text/plain": [
              "[Synset('envy.n.01'),\n",
              " Synset('envy.n.02'),\n",
              " Synset('envy.v.01'),\n",
              " Synset('envy.v.02')]"
            ]
          },
          "metadata": {},
          "execution_count": 150
        }
      ]
    },
    {
      "cell_type": "code",
      "source": [
        "print(wn.synset('envy.n.01').definition())\n",
        "print(wn.synset('envy.n.02').definition())"
      ],
      "metadata": {
        "colab": {
          "base_uri": "https://localhost:8080/"
        },
        "id": "KOp_N19j1arQ",
        "outputId": "edc6a8e6-576b-4e0f-8edf-43e4b5ae450a"
      },
      "execution_count": 153,
      "outputs": [
        {
          "output_type": "stream",
          "name": "stdout",
          "text": [
            "a feeling of grudging admiration and desire to have something that is possessed by another\n",
            "spite and resentment at seeing the success of another (personified as one of the deadly sins)\n"
          ]
        }
      ]
    },
    {
      "cell_type": "code",
      "source": [
        "from nltk.corpus import sentiwordnet as swn\n",
        "nltk.download('sentiwordnet')"
      ],
      "metadata": {
        "id": "niSl_7zN1ER3"
      },
      "execution_count": null,
      "outputs": []
    },
    {
      "cell_type": "markdown",
      "source": [
        "# Polarity Scores"
      ],
      "metadata": {
        "id": "cIlQ0qjd22J6"
      }
    },
    {
      "cell_type": "code",
      "source": [
        "nv1 = swn.senti_synset('envy.n.01')\n",
        "nv2 = swn.senti_synset('envy.n.02')\n",
        "print(nv1)\n",
        "print(\"Positive score = \", nv1.pos_score())\n",
        "print(\"Negative score = \", nv1.neg_score())\n",
        "print(\"Objective score = \", nv1.obj_score())\n",
        "print('\\n')\n",
        "print(nv2)\n",
        "print(\"Positive score = \", nv2.pos_score())\n",
        "print(\"Negative score = \", nv2.neg_score())\n",
        "print(\"Objective score = \", nv2.obj_score())"
      ],
      "metadata": {
        "colab": {
          "base_uri": "https://localhost:8080/"
        },
        "id": "bhRAK_tC1MrH",
        "outputId": "1f5c60a9-cfa7-4a65-ccff-88f95c341935"
      },
      "execution_count": 157,
      "outputs": [
        {
          "output_type": "stream",
          "name": "stdout",
          "text": [
            "<envy.n.01: PosScore=0.625 NegScore=0.0>\n",
            "Positive score =  0.625\n",
            "Negative score =  0.0\n",
            "Objective score =  0.375\n",
            "\n",
            "\n",
            "<envy.n.02: PosScore=0.0 NegScore=0.5>\n",
            "Positive score =  0.0\n",
            "Negative score =  0.5\n",
            "Objective score =  0.5\n"
          ]
        }
      ]
    },
    {
      "cell_type": "code",
      "source": [
        "sent = \"Everything is cold and nothing is totally frozen\"\n",
        "neg = 0\n",
        "pos = 0\n",
        "tokens = sent.split()\n",
        "for token in tokens:\n",
        "    syn_list = list(swn.senti_synsets(token))\n",
        "    if syn_list:\n",
        "        syn = syn_list[0]\n",
        "        neg += syn.neg_score()\n",
        "        pos += syn.pos_score()\n",
        "    \n",
        "print(\"neg\\tpos counts\")\n",
        "print(neg, '\\t', pos)"
      ],
      "metadata": {
        "colab": {
          "base_uri": "https://localhost:8080/"
        },
        "id": "T8y-Dpvm2972",
        "outputId": "0aea04b9-195a-4f98-fcba-a05386b713fc"
      },
      "execution_count": 158,
      "outputs": [
        {
          "output_type": "stream",
          "name": "stdout",
          "text": [
            "neg\tpos counts\n",
            "0.625 \t 1.25\n"
          ]
        }
      ]
    },
    {
      "cell_type": "markdown",
      "source": [
        "The score shows that there is a decent mix of positive and negative sentiment in the sentance, but overall the sentance has a more positive sentiment. This can be helpful in NLP applications in discerning if certain social media posts, or news articles are hateful or dangerous.\n",
        "\n"
      ],
      "metadata": {
        "id": "dIYgpV3k49go"
      }
    },
    {
      "cell_type": "markdown",
      "source": [
        "# Collocations"
      ],
      "metadata": {
        "id": "-F5xyJ115m4H"
      }
    },
    {
      "cell_type": "markdown",
      "source": [
        "Collocations is when two or more words frequently occur together, where there is a plausible pattern. Often, a telling sign is that for the words that form a collocation, are not replacable with synonyms (ex. take a shower, cannot be replaced with grab a shower). Collocations can abe used to create more robust and accurate models within NLP. "
      ],
      "metadata": {
        "id": "EMEREJtj6HJ0"
      }
    },
    {
      "cell_type": "code",
      "source": [
        "from nltk.book import *\n",
        "text4"
      ],
      "metadata": {
        "colab": {
          "base_uri": "https://localhost:8080/"
        },
        "id": "P6mXytbY5quN",
        "outputId": "670083c5-d1f5-438a-e6f7-13a43a219aba"
      },
      "execution_count": 177,
      "outputs": [
        {
          "output_type": "execute_result",
          "data": {
            "text/plain": [
              "<Text: Inaugural Address Corpus>"
            ]
          },
          "metadata": {},
          "execution_count": 177
        }
      ]
    },
    {
      "cell_type": "code",
      "source": [
        "text4.collocations()"
      ],
      "metadata": {
        "colab": {
          "base_uri": "https://localhost:8080/"
        },
        "id": "IVhvZbGu7388",
        "outputId": "493b6eef-f5d0-47ac-992b-819f61425cd3"
      },
      "execution_count": 175,
      "outputs": [
        {
          "output_type": "stream",
          "name": "stdout",
          "text": [
            "United States; fellow citizens; years ago; four years; Federal\n",
            "Government; General Government; American people; Vice President; God\n",
            "bless; Chief Justice; one another; fellow Americans; Old World;\n",
            "Almighty God; Fellow citizens; Chief Magistrate; every citizen; Indian\n",
            "tribes; public debt; foreign nations\n"
          ]
        }
      ]
    },
    {
      "cell_type": "markdown",
      "source": [
        "# Manual point-wise mutual information"
      ],
      "metadata": {
        "id": "RjCrPK-v9AWN"
      }
    },
    {
      "cell_type": "code",
      "source": [
        "import math"
      ],
      "metadata": {
        "id": "jWGuoILZ9NkL"
      },
      "execution_count": 178,
      "outputs": []
    },
    {
      "cell_type": "code",
      "source": [
        "text = ' '.join(text4.tokens)"
      ],
      "metadata": {
        "id": "qgR0Yf-m9Z5O"
      },
      "execution_count": 179,
      "outputs": []
    },
    {
      "cell_type": "code",
      "source": [
        "vocab = len(set(text4))\n",
        "hg = text.count('public debt')/vocab\n",
        "print(\"p(public debt) = \",hg )\n",
        "h = text.count('Holy')/vocab\n",
        "print(\"p(public) = \", h)\n",
        "g = text.count('debt')/vocab\n",
        "print('p(debt) = ', g)\n",
        "pmi = math.log2(hg / (h * g))\n",
        "print('pmi = ', pmi)"
      ],
      "metadata": {
        "colab": {
          "base_uri": "https://localhost:8080/"
        },
        "id": "MWWcUSib9rXV",
        "outputId": "42096229-b997-4299-e4b0-b32aed937fda"
      },
      "execution_count": 180,
      "outputs": [
        {
          "output_type": "stream",
          "name": "stdout",
          "text": [
            "p(public debt) =  0.001396508728179551\n",
            "p(public) =  9.975062344139652e-05\n",
            "p(debt) =  0.004189526184538653\n",
            "pmi =  11.706352115508489\n"
          ]
        }
      ]
    },
    {
      "cell_type": "code",
      "source": [
        "vocab = len(set(text4))\n",
        "hg = text.count('every citizen')/vocab\n",
        "print(\"p(every citizen) = \",hg )\n",
        "h = text.count('every')/vocab\n",
        "print(\"p(every) = \", h)\n",
        "g = text.count('citizen')/vocab\n",
        "print('p(citizen) = ', g)\n",
        "pmi = math.log2(hg / (h * g))\n",
        "print('pmi = ', pmi)"
      ],
      "metadata": {
        "colab": {
          "base_uri": "https://localhost:8080/"
        },
        "id": "cOuGsHYg-BBk",
        "outputId": "e613b360-ad7a-439c-f401-eb778eb04fcc"
      },
      "execution_count": 181,
      "outputs": [
        {
          "output_type": "stream",
          "name": "stdout",
          "text": [
            "p(every citizen) =  0.0016957605985037406\n",
            "p(every) =  0.03291770573566085\n",
            "p(citizen) =  0.032618453865336655\n",
            "pmi =  0.6593084177360863\n"
          ]
        }
      ]
    },
    {
      "cell_type": "markdown",
      "source": [
        "From the mutual point-wise information we can see that 'public debt' has an extremely high PMI score indicating that it is likely a collocation. 'every citizen' inversely has a low PMI score, indicating that it is not a collocation, and that synonyms can be used for that particular phrase. "
      ],
      "metadata": {
        "id": "JlviaR3T-PMH"
      }
    }
  ]
}